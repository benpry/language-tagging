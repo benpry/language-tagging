{
 "cells": [
  {
   "cell_type": "code",
   "execution_count": 2,
   "id": "8791df7d-2078-4ece-95cf-bfec5623d612",
   "metadata": {},
   "outputs": [],
   "source": [
    "import dspy\n",
    "import pandas as pd\n",
    "from pyprojroot import here\n",
    "import uuid"
   ]
  },
  {
   "cell_type": "code",
   "execution_count": 3,
   "id": "8600820e-f95e-4000-9844-97b575e3424f",
   "metadata": {},
   "outputs": [],
   "source": [
    "turbo = dspy.OpenAI(model='gpt-3.5-turbo')\n",
    "dspy.settings.configure(lm=turbo)"
   ]
  },
  {
   "cell_type": "code",
   "execution_count": 4,
   "id": "ead92ead-1c18-4301-b892-7246a5b25589",
   "metadata": {},
   "outputs": [],
   "source": [
    "class Valence(dspy.Signature):\n",
    "    \"\"\"Classify the following sentences as one of the following:\n",
    "1. winning, including mentions of scoring points, victory, success, goals, solutions, best strategies\n",
    "2. neutral information\n",
    "3. losing, including information about death, losing points, lowering scores, forfeiting, losing lives, getting stuck or trapped\n",
    "\n",
    "These sentences all came from an experiment in which participants played a game with squares of different colors moving on a board then wrote about it.\n",
    "\"\"\"\n",
    "\n",
    "    sentence = dspy.InputField(desc=\"A sentence to be tagged\")\n",
    "    tag = dspy.OutputField(desc=\"'abstract' if the message contains abstract or analogical verbs and 'concrete' otherwise\")"
   ]
  },
  {
   "cell_type": "code",
   "execution_count": 5,
   "id": "07f5f7d8-ee67-4cb5-b558-f4dcb9d92dfb",
   "metadata": {},
   "outputs": [],
   "source": [
    "class TagValence(dspy.Module):\n",
    "    \"\"\"A module to tag verbs for abstraction\"\"\"\n",
    "    def __init__(self):\n",
    "        super().__init__()\n",
    "        \n",
    "        self.tagger = dspy.Predict(Valence)\n",
    "\n",
    "    def forward(self, sentence):\n",
    "        return self.tagger(sentence=sentence)\n",
    "\n",
    "class TagValenceWithCoT(dspy.Module):\n",
    "    \"\"\"A module to tag verbs for abstraction using chain of thought.\"\"\"\n",
    "    def __init__(self):\n",
    "        super().__init__()\n",
    "        \n",
    "        self.tagger = dspy.ChainOfThought(Valence)\n",
    "\n",
    "    def forward(self, sentence):\n",
    "        return self.tagger(sentence=sentence)"
   ]
  },
  {
   "cell_type": "code",
   "execution_count": 6,
   "id": "65a62da1-e8dd-48cd-9753-a4d8c5095611",
   "metadata": {},
   "outputs": [],
   "source": [
    "df_tags1 = pd.read_csv(here(\"data/raw-data/ben_manually_tagged_sentences.csv\"))\n",
    "df_tags2 = pd.read_csv(here(\"data/raw-data/ben_manually_tagged_sentences_v2.csv\"))\n",
    "df_tags = pd.concat((df_tags1, df_tags2)).drop(columns=\"Unnamed: 0\")\n",
    "df_abstract_verbs = df_tags[df_tags[\"tags\"].apply(lambda x: \"abstract_verbs\" in x)]"
   ]
  },
  {
   "cell_type": "code",
   "execution_count": null,
   "id": "57346902-1686-44e5-8f4f-1d755cf2c082",
   "metadata": {},
   "outputs": [],
   "source": []
  }
 ],
 "metadata": {
  "kernelspec": {
   "display_name": "Python 3 (ipykernel)",
   "language": "python",
   "name": "python3"
  },
  "language_info": {
   "codemirror_mode": {
    "name": "ipython",
    "version": 3
   },
   "file_extension": ".py",
   "mimetype": "text/x-python",
   "name": "python",
   "nbconvert_exporter": "python",
   "pygments_lexer": "ipython3",
   "version": "3.11.5"
  }
 },
 "nbformat": 4,
 "nbformat_minor": 5
}
