{
 "cells": [
  {
   "cell_type": "code",
   "execution_count": 1,
   "id": "f56a56de-774d-4bdb-b8c5-1e398795aa39",
   "metadata": {},
   "outputs": [],
   "source": [
    "import os\n",
    "from openai import OpenAI\n",
    "from prompts import chat_prompt_templates\n",
    "import numpy as np\n",
    "import pandas as pd\n",
    "from pyprojroot import here\n",
    "from sklearn.metrics import confusion_matrix, accuracy_score"
   ]
  },
  {
   "cell_type": "code",
   "execution_count": 2,
   "id": "cba36279-0652-4329-bd7b-a9debed783ff",
   "metadata": {},
   "outputs": [],
   "source": [
    "client = OpenAI()"
   ]
  },
  {
   "cell_type": "code",
   "execution_count": 3,
   "id": "12f4af41-7e98-43ce-b78c-923a50f1eb95",
   "metadata": {},
   "outputs": [],
   "source": [
    "def format_messages(prompt, test_sentence):\n",
    "    messages = prompt.format_prompt(test_sentence=test_sentence).to_messages()\n",
    "    message_dicts = [msg.dict() for msg in messages]\n",
    "    for msg in message_dicts:\n",
    "        del msg[\"additional_kwargs\"]\n",
    "        if msg[\"type\"] == \"ai\":\n",
    "            msg[\"type\"] = \"assistant\"\n",
    "        if msg[\"type\"] == \"human\":\n",
    "            msg[\"type\"] = \"user\"\n",
    "        msg[\"role\"] = msg[\"type\"]\n",
    "        del msg[\"type\"]\n",
    "        if \"example\" in msg:\n",
    "            del msg[\"example\"]\n",
    "    return message_dicts"
   ]
  },
  {
   "cell_type": "code",
   "execution_count": 4,
   "id": "9ca31154-970b-433d-a572-5231c248be78",
   "metadata": {},
   "outputs": [],
   "source": [
    "response = client.chat.completions.create(\n",
    "    model=\"gpt-3.5-turbo\",\n",
    "    messages=format_messages(\n",
    "        chat_prompt_templates[\"valence\"],\n",
    "        \"You have to clear all the blue blocks before you can access the goal.\",\n",
    "    ),\n",
    "    logprobs=True,\n",
    "    top_logprobs=5,\n",
    "    n=1,\n",
    "    temperature=0,\n",
    "    max_tokens=1,\n",
    ")"
   ]
  },
  {
   "cell_type": "code",
   "execution_count": 5,
   "id": "5be430d8-8565-498c-bd94-759bb2b8c1bd",
   "metadata": {},
   "outputs": [
    {
     "data": {
      "text/plain": [
       "[TopLogprob(token='win', bytes=[119, 105, 110], logprob=-0.5121744),\n",
       " TopLogprob(token='neutral', bytes=[110, 101, 117, 116, 114, 97, 108], logprob=-0.91497976),\n",
       " TopLogprob(token='losing', bytes=[108, 111, 115, 105, 110, 103], logprob=-8.406067),\n",
       " TopLogprob(token='ne', bytes=[110, 101], logprob=-10.25235),\n",
       " TopLogprob(token='Neutral', bytes=[78, 101, 117, 116, 114, 97, 108], logprob=-11.212391)]"
      ]
     },
     "execution_count": 5,
     "metadata": {},
     "output_type": "execute_result"
    }
   ],
   "source": [
    "response.choices[0].logprobs.content[0].top_logprobs"
   ]
  },
  {
   "cell_type": "code",
   "execution_count": 6,
   "id": "6e18fe33-eb2a-43eb-ba2e-6d612db0fd17",
   "metadata": {},
   "outputs": [
    {
     "data": {
      "text/plain": [
       "Choice(finish_reason='length', index=0, logprobs=ChoiceLogprobs(content=[ChatCompletionTokenLogprob(token='win', bytes=[119, 105, 110], logprob=-0.5121744, top_logprobs=[TopLogprob(token='win', bytes=[119, 105, 110], logprob=-0.5121744), TopLogprob(token='neutral', bytes=[110, 101, 117, 116, 114, 97, 108], logprob=-0.91497976), TopLogprob(token='losing', bytes=[108, 111, 115, 105, 110, 103], logprob=-8.406067), TopLogprob(token='ne', bytes=[110, 101], logprob=-10.25235), TopLogprob(token='Neutral', bytes=[78, 101, 117, 116, 114, 97, 108], logprob=-11.212391)])]), message=ChatCompletionMessage(content='win', role='assistant', function_call=None, tool_calls=None))"
      ]
     },
     "execution_count": 6,
     "metadata": {},
     "output_type": "execute_result"
    }
   ],
   "source": [
    "response.choices[0]"
   ]
  },
  {
   "cell_type": "code",
   "execution_count": 7,
   "id": "8f7e26c4-ca98-4882-95e6-878691ded2a7",
   "metadata": {},
   "outputs": [],
   "source": [
    "import numpy as np"
   ]
  },
  {
   "cell_type": "code",
   "execution_count": 8,
   "id": "9326709d-4d15-491e-a01c-83916c7f9520",
   "metadata": {},
   "outputs": [
    {
     "data": {
      "text/plain": [
       "array([0.99727493])"
      ]
     },
     "execution_count": 8,
     "metadata": {},
     "output_type": "execute_result"
    }
   ],
   "source": [
    "np.exp([-0.0027287903])"
   ]
  },
  {
   "cell_type": "code",
   "execution_count": 4,
   "id": "5af9ded2-ea2e-4991-a779-8e9874a3c86e",
   "metadata": {},
   "outputs": [],
   "source": [
    "df_tagged = pd.read_csv(here(\"data/tagged_sentences_prob.csv\"))"
   ]
  },
  {
   "cell_type": "code",
   "execution_count": 5,
   "id": "b2d6b8b3-14cb-4c04-859d-df32c11753b2",
   "metadata": {},
   "outputs": [],
   "source": [
    "df_human = pd.read_csv(here(\"data/raw-data/tagged_annotated_sentences.csv\"))"
   ]
  },
  {
   "cell_type": "code",
   "execution_count": 6,
   "id": "0e2e172a-ebf1-4821-a40c-ea0c017bd6c7",
   "metadata": {},
   "outputs": [],
   "source": [
    "df = pd.merge(df_tagged, df_human, on=\"sentence\", suffixes=(\"_lm\", \"_human\"))"
   ]
  },
  {
   "cell_type": "code",
   "execution_count": 7,
   "id": "7cdb42e1-0205-4082-a777-9475dbd06a9b",
   "metadata": {},
   "outputs": [
    {
     "data": {
      "text/html": [
       "<div>\n",
       "<style scoped>\n",
       "    .dataframe tbody tr th:only-of-type {\n",
       "        vertical-align: middle;\n",
       "    }\n",
       "\n",
       "    .dataframe tbody tr th {\n",
       "        vertical-align: top;\n",
       "    }\n",
       "\n",
       "    .dataframe thead th {\n",
       "        text-align: right;\n",
       "    }\n",
       "</style>\n",
       "<table border=\"1\" class=\"dataframe\">\n",
       "  <thead>\n",
       "    <tr style=\"text-align: right;\">\n",
       "      <th></th>\n",
       "      <th>sentence</th>\n",
       "      <th>abstract_concrete</th>\n",
       "      <th>abstract_abstract</th>\n",
       "      <th>abstract_ignorance</th>\n",
       "      <th>abstract_lm</th>\n",
       "      <th>policy_not policy</th>\n",
       "      <th>policy_policy</th>\n",
       "      <th>policy_lm</th>\n",
       "      <th>dynamics_dynamics</th>\n",
       "      <th>dynamics_not dynamics</th>\n",
       "      <th>dynamics_lm</th>\n",
       "      <th>valence_winning</th>\n",
       "      <th>valence_neutral</th>\n",
       "      <th>valence_losing</th>\n",
       "      <th>valence_lm</th>\n",
       "      <th>dynamics_human</th>\n",
       "      <th>policy_human</th>\n",
       "      <th>abstract_human</th>\n",
       "      <th>valence_human</th>\n",
       "    </tr>\n",
       "  </thead>\n",
       "  <tbody>\n",
       "    <tr>\n",
       "      <th>0</th>\n",
       "      <td>The goal is to get the yellow block.</td>\n",
       "      <td>-0.008880</td>\n",
       "      <td>-4.730583</td>\n",
       "      <td>-11.478441</td>\n",
       "      <td>concrete</td>\n",
       "      <td>-0.004523</td>\n",
       "      <td>-5.410519</td>\n",
       "      <td>not policy</td>\n",
       "      <td>-0.002968</td>\n",
       "      <td>-5.823530</td>\n",
       "      <td>dynamics</td>\n",
       "      <td>-0.000072</td>\n",
       "      <td>-9.565423</td>\n",
       "      <td>-inf</td>\n",
       "      <td>winning</td>\n",
       "      <td>dynamics, or how the world works including exp...</td>\n",
       "      <td>not policy, or what actions to take including ...</td>\n",
       "      <td>concrete, simple, low-level information</td>\n",
       "      <td>winning, including mentions of scoring points,...</td>\n",
       "    </tr>\n",
       "    <tr>\n",
       "      <th>1</th>\n",
       "      <td>You can use the green blocks to protect yourse...</td>\n",
       "      <td>-0.102279</td>\n",
       "      <td>-2.332705</td>\n",
       "      <td>-inf</td>\n",
       "      <td>concrete</td>\n",
       "      <td>-3.192469</td>\n",
       "      <td>-0.041987</td>\n",
       "      <td>policy</td>\n",
       "      <td>-0.003973</td>\n",
       "      <td>-5.532240</td>\n",
       "      <td>dynamics</td>\n",
       "      <td>-0.936142</td>\n",
       "      <td>-0.497940</td>\n",
       "      <td>-inf</td>\n",
       "      <td>neutral</td>\n",
       "      <td>dynamics, or how the world works including exp...</td>\n",
       "      <td>policy, or what actions to take including stra...</td>\n",
       "      <td>abstract, complex, high-level information</td>\n",
       "      <td>neutral information</td>\n",
       "    </tr>\n",
       "    <tr>\n",
       "      <th>2</th>\n",
       "      <td>Let the red squares reach the green square in ...</td>\n",
       "      <td>-2.053121</td>\n",
       "      <td>-0.137460</td>\n",
       "      <td>-inf</td>\n",
       "      <td>abstract</td>\n",
       "      <td>-2.613745</td>\n",
       "      <td>-0.076191</td>\n",
       "      <td>policy</td>\n",
       "      <td>-1.744980</td>\n",
       "      <td>-0.192099</td>\n",
       "      <td>not dynamics</td>\n",
       "      <td>-0.152994</td>\n",
       "      <td>-2.001680</td>\n",
       "      <td>-5.013036</td>\n",
       "      <td>winning</td>\n",
       "      <td>dynamics, or how the world works including exp...</td>\n",
       "      <td>policy, or what actions to take including stra...</td>\n",
       "      <td>abstract, complex, high-level information</td>\n",
       "      <td>winning, including mentions of scoring points,...</td>\n",
       "    </tr>\n",
       "    <tr>\n",
       "      <th>3</th>\n",
       "      <td>You can go through the red squares freely with...</td>\n",
       "      <td>-0.000326</td>\n",
       "      <td>-8.043337</td>\n",
       "      <td>-inf</td>\n",
       "      <td>concrete</td>\n",
       "      <td>-0.045754</td>\n",
       "      <td>-3.110350</td>\n",
       "      <td>not policy</td>\n",
       "      <td>-1.270778</td>\n",
       "      <td>-0.329950</td>\n",
       "      <td>not dynamics</td>\n",
       "      <td>-4.718414</td>\n",
       "      <td>-0.011726</td>\n",
       "      <td>-5.963789</td>\n",
       "      <td>neutral</td>\n",
       "      <td>dynamics, or how the world works including exp...</td>\n",
       "      <td>not policy, or what actions to take including ...</td>\n",
       "      <td>concrete, simple, low-level information</td>\n",
       "      <td>neutral information</td>\n",
       "    </tr>\n",
       "    <tr>\n",
       "      <th>4</th>\n",
       "      <td>Be careful to stay away from the green squares...</td>\n",
       "      <td>-0.692264</td>\n",
       "      <td>-0.694178</td>\n",
       "      <td>-inf</td>\n",
       "      <td>concrete</td>\n",
       "      <td>-9.935051</td>\n",
       "      <td>-0.000059</td>\n",
       "      <td>policy</td>\n",
       "      <td>-0.005378</td>\n",
       "      <td>-5.229951</td>\n",
       "      <td>dynamics</td>\n",
       "      <td>-inf</td>\n",
       "      <td>-9.939384</td>\n",
       "      <td>-0.000086</td>\n",
       "      <td>losing</td>\n",
       "      <td>dynamics, or how the world works including exp...</td>\n",
       "      <td>policy, or what actions to take including stra...</td>\n",
       "      <td>abstract, complex, high-level information</td>\n",
       "      <td>losing, including information about death, los...</td>\n",
       "    </tr>\n",
       "    <tr>\n",
       "      <th>...</th>\n",
       "      <td>...</td>\n",
       "      <td>...</td>\n",
       "      <td>...</td>\n",
       "      <td>...</td>\n",
       "      <td>...</td>\n",
       "      <td>...</td>\n",
       "      <td>...</td>\n",
       "      <td>...</td>\n",
       "      <td>...</td>\n",
       "      <td>...</td>\n",
       "      <td>...</td>\n",
       "      <td>...</td>\n",
       "      <td>...</td>\n",
       "      <td>...</td>\n",
       "      <td>...</td>\n",
       "      <td>...</td>\n",
       "      <td>...</td>\n",
       "      <td>...</td>\n",
       "      <td>...</td>\n",
       "    </tr>\n",
       "    <tr>\n",
       "      <th>194</th>\n",
       "      <td>You generally want to avoid this as many red s...</td>\n",
       "      <td>-5.343724</td>\n",
       "      <td>-0.004874</td>\n",
       "      <td>-inf</td>\n",
       "      <td>abstract</td>\n",
       "      <td>-0.380172</td>\n",
       "      <td>-1.151433</td>\n",
       "      <td>not policy</td>\n",
       "      <td>-0.348646</td>\n",
       "      <td>-1.223116</td>\n",
       "      <td>dynamics</td>\n",
       "      <td>-inf</td>\n",
       "      <td>-5.087272</td>\n",
       "      <td>-0.007194</td>\n",
       "      <td>losing</td>\n",
       "      <td>dynamics, or how the world works including exp...</td>\n",
       "      <td>policy, or what actions to take including stra...</td>\n",
       "      <td>abstract, complex, high-level information</td>\n",
       "      <td>losing, including information about death, los...</td>\n",
       "    </tr>\n",
       "    <tr>\n",
       "      <th>195</th>\n",
       "      <td>The best approach is to carve the path through...</td>\n",
       "      <td>-6.333031</td>\n",
       "      <td>-0.001916</td>\n",
       "      <td>-inf</td>\n",
       "      <td>abstract</td>\n",
       "      <td>-6.113581</td>\n",
       "      <td>-0.002273</td>\n",
       "      <td>policy</td>\n",
       "      <td>-0.193739</td>\n",
       "      <td>-1.736651</td>\n",
       "      <td>dynamics</td>\n",
       "      <td>-0.006106</td>\n",
       "      <td>-5.156220</td>\n",
       "      <td>-inf</td>\n",
       "      <td>winning</td>\n",
       "      <td>dynamics, or how the world works including exp...</td>\n",
       "      <td>policy, or what actions to take including stra...</td>\n",
       "      <td>abstract, complex, high-level information</td>\n",
       "      <td>winning, including mentions of scoring points,...</td>\n",
       "    </tr>\n",
       "    <tr>\n",
       "      <th>196</th>\n",
       "      <td>But the green squares are the most important o...</td>\n",
       "      <td>-3.396403</td>\n",
       "      <td>-0.034268</td>\n",
       "      <td>-9.194838</td>\n",
       "      <td>abstract</td>\n",
       "      <td>-0.011289</td>\n",
       "      <td>-4.496774</td>\n",
       "      <td>not policy</td>\n",
       "      <td>-0.822572</td>\n",
       "      <td>-0.578672</td>\n",
       "      <td>not dynamics</td>\n",
       "      <td>-1.666069</td>\n",
       "      <td>-0.209580</td>\n",
       "      <td>-inf</td>\n",
       "      <td>neutral</td>\n",
       "      <td>not dynamics, or how the world works including...</td>\n",
       "      <td>not policy, or what actions to take including ...</td>\n",
       "      <td>abstract, complex, high-level information</td>\n",
       "      <td>neutral information</td>\n",
       "    </tr>\n",
       "    <tr>\n",
       "      <th>197</th>\n",
       "      <td>Using the spacebar key will destroy a square i...</td>\n",
       "      <td>-0.000354</td>\n",
       "      <td>-9.052701</td>\n",
       "      <td>-inf</td>\n",
       "      <td>concrete</td>\n",
       "      <td>-1.124081</td>\n",
       "      <td>-0.393145</td>\n",
       "      <td>policy</td>\n",
       "      <td>-0.003629</td>\n",
       "      <td>-5.623413</td>\n",
       "      <td>dynamics</td>\n",
       "      <td>-0.014351</td>\n",
       "      <td>-4.516466</td>\n",
       "      <td>-5.781889</td>\n",
       "      <td>winning</td>\n",
       "      <td>dynamics, or how the world works including exp...</td>\n",
       "      <td>policy, or what actions to take including stra...</td>\n",
       "      <td>concrete, simple, low-level information</td>\n",
       "      <td>winning, including mentions of scoring points,...</td>\n",
       "    </tr>\n",
       "    <tr>\n",
       "      <th>198</th>\n",
       "      <td>Patience is key for this game.</td>\n",
       "      <td>-inf</td>\n",
       "      <td>-0.000022</td>\n",
       "      <td>-11.819787</td>\n",
       "      <td>abstract</td>\n",
       "      <td>-0.062824</td>\n",
       "      <td>-2.799049</td>\n",
       "      <td>not policy</td>\n",
       "      <td>-3.301543</td>\n",
       "      <td>-0.037823</td>\n",
       "      <td>not dynamics</td>\n",
       "      <td>-6.680573</td>\n",
       "      <td>-0.001360</td>\n",
       "      <td>-inf</td>\n",
       "      <td>neutral</td>\n",
       "      <td>not dynamics, or how the world works including...</td>\n",
       "      <td>not policy, or what actions to take including ...</td>\n",
       "      <td>abstract, complex, high-level information</td>\n",
       "      <td>neutral information</td>\n",
       "    </tr>\n",
       "  </tbody>\n",
       "</table>\n",
       "<p>199 rows × 19 columns</p>\n",
       "</div>"
      ],
      "text/plain": [
       "                                              sentence  abstract_concrete  \\\n",
       "0                 The goal is to get the yellow block.          -0.008880   \n",
       "1    You can use the green blocks to protect yourse...          -0.102279   \n",
       "2    Let the red squares reach the green square in ...          -2.053121   \n",
       "3    You can go through the red squares freely with...          -0.000326   \n",
       "4    Be careful to stay away from the green squares...          -0.692264   \n",
       "..                                                 ...                ...   \n",
       "194  You generally want to avoid this as many red s...          -5.343724   \n",
       "195  The best approach is to carve the path through...          -6.333031   \n",
       "196  But the green squares are the most important o...          -3.396403   \n",
       "197  Using the spacebar key will destroy a square i...          -0.000354   \n",
       "198                     Patience is key for this game.               -inf   \n",
       "\n",
       "     abstract_abstract  abstract_ignorance abstract_lm  policy_not policy  \\\n",
       "0            -4.730583          -11.478441    concrete          -0.004523   \n",
       "1            -2.332705                -inf    concrete          -3.192469   \n",
       "2            -0.137460                -inf    abstract          -2.613745   \n",
       "3            -8.043337                -inf    concrete          -0.045754   \n",
       "4            -0.694178                -inf    concrete          -9.935051   \n",
       "..                 ...                 ...         ...                ...   \n",
       "194          -0.004874                -inf    abstract          -0.380172   \n",
       "195          -0.001916                -inf    abstract          -6.113581   \n",
       "196          -0.034268           -9.194838    abstract          -0.011289   \n",
       "197          -9.052701                -inf    concrete          -1.124081   \n",
       "198          -0.000022          -11.819787    abstract          -0.062824   \n",
       "\n",
       "     policy_policy   policy_lm  dynamics_dynamics  dynamics_not dynamics  \\\n",
       "0        -5.410519  not policy          -0.002968              -5.823530   \n",
       "1        -0.041987      policy          -0.003973              -5.532240   \n",
       "2        -0.076191      policy          -1.744980              -0.192099   \n",
       "3        -3.110350  not policy          -1.270778              -0.329950   \n",
       "4        -0.000059      policy          -0.005378              -5.229951   \n",
       "..             ...         ...                ...                    ...   \n",
       "194      -1.151433  not policy          -0.348646              -1.223116   \n",
       "195      -0.002273      policy          -0.193739              -1.736651   \n",
       "196      -4.496774  not policy          -0.822572              -0.578672   \n",
       "197      -0.393145      policy          -0.003629              -5.623413   \n",
       "198      -2.799049  not policy          -3.301543              -0.037823   \n",
       "\n",
       "      dynamics_lm  valence_winning  valence_neutral  valence_losing  \\\n",
       "0        dynamics        -0.000072        -9.565423            -inf   \n",
       "1        dynamics        -0.936142        -0.497940            -inf   \n",
       "2    not dynamics        -0.152994        -2.001680       -5.013036   \n",
       "3    not dynamics        -4.718414        -0.011726       -5.963789   \n",
       "4        dynamics             -inf        -9.939384       -0.000086   \n",
       "..            ...              ...              ...             ...   \n",
       "194      dynamics             -inf        -5.087272       -0.007194   \n",
       "195      dynamics        -0.006106        -5.156220            -inf   \n",
       "196  not dynamics        -1.666069        -0.209580            -inf   \n",
       "197      dynamics        -0.014351        -4.516466       -5.781889   \n",
       "198  not dynamics        -6.680573        -0.001360            -inf   \n",
       "\n",
       "    valence_lm                                     dynamics_human  \\\n",
       "0      winning  dynamics, or how the world works including exp...   \n",
       "1      neutral  dynamics, or how the world works including exp...   \n",
       "2      winning  dynamics, or how the world works including exp...   \n",
       "3      neutral  dynamics, or how the world works including exp...   \n",
       "4       losing  dynamics, or how the world works including exp...   \n",
       "..         ...                                                ...   \n",
       "194     losing  dynamics, or how the world works including exp...   \n",
       "195    winning  dynamics, or how the world works including exp...   \n",
       "196    neutral  not dynamics, or how the world works including...   \n",
       "197    winning  dynamics, or how the world works including exp...   \n",
       "198    neutral  not dynamics, or how the world works including...   \n",
       "\n",
       "                                          policy_human  \\\n",
       "0    not policy, or what actions to take including ...   \n",
       "1    policy, or what actions to take including stra...   \n",
       "2    policy, or what actions to take including stra...   \n",
       "3    not policy, or what actions to take including ...   \n",
       "4    policy, or what actions to take including stra...   \n",
       "..                                                 ...   \n",
       "194  policy, or what actions to take including stra...   \n",
       "195  policy, or what actions to take including stra...   \n",
       "196  not policy, or what actions to take including ...   \n",
       "197  policy, or what actions to take including stra...   \n",
       "198  not policy, or what actions to take including ...   \n",
       "\n",
       "                                abstract_human  \\\n",
       "0      concrete, simple, low-level information   \n",
       "1    abstract, complex, high-level information   \n",
       "2    abstract, complex, high-level information   \n",
       "3      concrete, simple, low-level information   \n",
       "4    abstract, complex, high-level information   \n",
       "..                                         ...   \n",
       "194  abstract, complex, high-level information   \n",
       "195  abstract, complex, high-level information   \n",
       "196  abstract, complex, high-level information   \n",
       "197    concrete, simple, low-level information   \n",
       "198  abstract, complex, high-level information   \n",
       "\n",
       "                                         valence_human  \n",
       "0    winning, including mentions of scoring points,...  \n",
       "1                                  neutral information  \n",
       "2    winning, including mentions of scoring points,...  \n",
       "3                                  neutral information  \n",
       "4    losing, including information about death, los...  \n",
       "..                                                 ...  \n",
       "194  losing, including information about death, los...  \n",
       "195  winning, including mentions of scoring points,...  \n",
       "196                                neutral information  \n",
       "197  winning, including mentions of scoring points,...  \n",
       "198                                neutral information  \n",
       "\n",
       "[199 rows x 19 columns]"
      ]
     },
     "execution_count": 7,
     "metadata": {},
     "output_type": "execute_result"
    }
   ],
   "source": [
    "df"
   ]
  },
  {
   "cell_type": "code",
   "execution_count": 12,
   "id": "a6827156-a679-42e9-9b03-e892e9a695b2",
   "metadata": {},
   "outputs": [],
   "source": [
    "df[\"abstract_human\"] = df[\"abstract_human\"].apply(\n",
    "    lambda x: (\n",
    "        \"abstract\"\n",
    "        if x == \"abstract, complex, high-level information\"\n",
    "        else (\n",
    "            \"concrete\"\n",
    "            if x == \"concrete, simple, low-level information\"\n",
    "            else \"ignorance\"\n",
    "        )\n",
    "    )\n",
    ")\n",
    "df[\"policy_human\"] = df[\"policy_human\"].apply(\n",
    "    lambda x: (\n",
    "        \"policy\"\n",
    "        if x == \"policy, or what actions to take including strategies or instructions\"\n",
    "        else \"not policy\"\n",
    "    )\n",
    ")\n",
    "df[\"dynamics_human\"] = df[\"dynamics_human\"].apply(\n",
    "    lambda x: (\n",
    "        \"dynamics\"\n",
    "        if x == \"dynamics, or how the world works including explanations or affordances\"\n",
    "        else \"not dynamics\"\n",
    "    )\n",
    ")\n",
    "df[\"valence_human\"] = df[\"valence_human\"].apply(\n",
    "    lambda x: (\n",
    "        \"winning\"\n",
    "        if x\n",
    "        == \"winning, including mentions of scoring points, victory, success, goals, solutions, best strategies\"\n",
    "        else \"neutral\" if x == \"neutral information\" else \"losing\"\n",
    "    )\n",
    ")"
   ]
  },
  {
   "cell_type": "code",
   "execution_count": 13,
   "id": "a39c2612-b58c-42c3-bf72-c12037294143",
   "metadata": {},
   "outputs": [],
   "source": [
    "def decide_abstraction_tag(logp_abstract, logp_concrete, logp_ignorance):\n",
    "    \"\"\"\n",
    "    determine whether a sentence should be called abstract or concrete, based on LM probabilities.\n",
    "    \"\"\"\n",
    "    p_abstract, p_concrete, p_ignorance = np.exp(\n",
    "        [logp_abstract, logp_concrete, logp_ignorance]\n",
    "    )\n",
    "    if p_ignorance > p_abstract and p_ignorance > p_concrete:\n",
    "        return \"ignorance\"\n",
    "    elif p_abstract > 0.01:\n",
    "        return \"abstract\"\n",
    "    else:\n",
    "        return \"concrete\"\n",
    "\n",
    "\n",
    "df[\"abstract_lm\"] = df.apply(\n",
    "    lambda x: decide_abstraction_tag(\n",
    "        x[\"abstract_abstract\"], x[\"abstract_concrete\"], x[\"abstract_ignorance\"]\n",
    "    ),\n",
    "    axis=1,\n",
    ")"
   ]
  },
  {
   "cell_type": "code",
   "execution_count": 14,
   "id": "9aa68fa3-a31f-4f4a-bcad-fb3fdc4b4e0c",
   "metadata": {
    "scrolled": true
   },
   "outputs": [
    {
     "data": {
      "text/html": [
       "<div>\n",
       "<style scoped>\n",
       "    .dataframe tbody tr th:only-of-type {\n",
       "        vertical-align: middle;\n",
       "    }\n",
       "\n",
       "    .dataframe tbody tr th {\n",
       "        vertical-align: top;\n",
       "    }\n",
       "\n",
       "    .dataframe thead th {\n",
       "        text-align: right;\n",
       "    }\n",
       "</style>\n",
       "<table border=\"1\" class=\"dataframe\">\n",
       "  <thead>\n",
       "    <tr style=\"text-align: right;\">\n",
       "      <th></th>\n",
       "      <th>sentence</th>\n",
       "      <th>abstract_concrete</th>\n",
       "      <th>abstract_abstract</th>\n",
       "      <th>abstract_ignorance</th>\n",
       "      <th>abstract_lm</th>\n",
       "      <th>abstract_human</th>\n",
       "    </tr>\n",
       "  </thead>\n",
       "  <tbody>\n",
       "    <tr>\n",
       "      <th>9</th>\n",
       "      <td>Avoid red blocks at all cost</td>\n",
       "      <td>-0.002169</td>\n",
       "      <td>-6.137253</td>\n",
       "      <td>-inf</td>\n",
       "      <td>concrete</td>\n",
       "      <td>abstract</td>\n",
       "    </tr>\n",
       "    <tr>\n",
       "      <th>69</th>\n",
       "      <td>Don't touch red/pink blocks, can grab light bl...</td>\n",
       "      <td>-0.000201</td>\n",
       "      <td>-8.540474</td>\n",
       "      <td>-inf</td>\n",
       "      <td>concrete</td>\n",
       "      <td>abstract</td>\n",
       "    </tr>\n",
       "    <tr>\n",
       "      <th>89</th>\n",
       "      <td>You will complete the level by getting rid of ...</td>\n",
       "      <td>-0.001567</td>\n",
       "      <td>-6.463054</td>\n",
       "      <td>-inf</td>\n",
       "      <td>concrete</td>\n",
       "      <td>abstract</td>\n",
       "    </tr>\n",
       "    <tr>\n",
       "      <th>96</th>\n",
       "      <td>You can only push the purple squares one at a ...</td>\n",
       "      <td>-0.003135</td>\n",
       "      <td>-5.769427</td>\n",
       "      <td>-inf</td>\n",
       "      <td>concrete</td>\n",
       "      <td>abstract</td>\n",
       "    </tr>\n",
       "    <tr>\n",
       "      <th>123</th>\n",
       "      <td>Green boxes cannot move through other green bo...</td>\n",
       "      <td>-0.002336</td>\n",
       "      <td>-6.064499</td>\n",
       "      <td>-inf</td>\n",
       "      <td>concrete</td>\n",
       "      <td>abstract</td>\n",
       "    </tr>\n",
       "    <tr>\n",
       "      <th>152</th>\n",
       "      <td>All GREEN boxes turning PURPLE will also cost ...</td>\n",
       "      <td>-0.005287</td>\n",
       "      <td>-5.248201</td>\n",
       "      <td>-12.093970</td>\n",
       "      <td>concrete</td>\n",
       "      <td>abstract</td>\n",
       "    </tr>\n",
       "    <tr>\n",
       "      <th>170</th>\n",
       "      <td>You can also push the green tiles into the pin...</td>\n",
       "      <td>-0.003458</td>\n",
       "      <td>-5.670023</td>\n",
       "      <td>-inf</td>\n",
       "      <td>concrete</td>\n",
       "      <td>abstract</td>\n",
       "    </tr>\n",
       "    <tr>\n",
       "      <th>174</th>\n",
       "      <td>You are not able to push multiple blocks toget...</td>\n",
       "      <td>-0.002660</td>\n",
       "      <td>-5.936418</td>\n",
       "      <td>-11.788508</td>\n",
       "      <td>concrete</td>\n",
       "      <td>abstract</td>\n",
       "    </tr>\n",
       "    <tr>\n",
       "      <th>179</th>\n",
       "      <td>You die if you touch a red or green square, an...</td>\n",
       "      <td>-0.000326</td>\n",
       "      <td>-8.044062</td>\n",
       "      <td>-inf</td>\n",
       "      <td>concrete</td>\n",
       "      <td>abstract</td>\n",
       "    </tr>\n",
       "  </tbody>\n",
       "</table>\n",
       "</div>"
      ],
      "text/plain": [
       "                                              sentence  abstract_concrete  \\\n",
       "9                         Avoid red blocks at all cost          -0.002169   \n",
       "69   Don't touch red/pink blocks, can grab light bl...          -0.000201   \n",
       "89   You will complete the level by getting rid of ...          -0.001567   \n",
       "96   You can only push the purple squares one at a ...          -0.003135   \n",
       "123  Green boxes cannot move through other green bo...          -0.002336   \n",
       "152  All GREEN boxes turning PURPLE will also cost ...          -0.005287   \n",
       "170  You can also push the green tiles into the pin...          -0.003458   \n",
       "174  You are not able to push multiple blocks toget...          -0.002660   \n",
       "179  You die if you touch a red or green square, an...          -0.000326   \n",
       "\n",
       "     abstract_abstract  abstract_ignorance abstract_lm abstract_human  \n",
       "9            -6.137253                -inf    concrete       abstract  \n",
       "69           -8.540474                -inf    concrete       abstract  \n",
       "89           -6.463054                -inf    concrete       abstract  \n",
       "96           -5.769427                -inf    concrete       abstract  \n",
       "123          -6.064499                -inf    concrete       abstract  \n",
       "152          -5.248201          -12.093970    concrete       abstract  \n",
       "170          -5.670023                -inf    concrete       abstract  \n",
       "174          -5.936418          -11.788508    concrete       abstract  \n",
       "179          -8.044062                -inf    concrete       abstract  "
      ]
     },
     "execution_count": 14,
     "metadata": {},
     "output_type": "execute_result"
    }
   ],
   "source": [
    "df[(df[\"abstract_human\"] == \"abstract\") & (df[\"abstract_lm\"] == \"concrete\")][\n",
    "    [\n",
    "        \"sentence\",\n",
    "        \"abstract_concrete\",\n",
    "        \"abstract_abstract\",\n",
    "        \"abstract_ignorance\",\n",
    "        \"abstract_lm\",\n",
    "        \"abstract_human\",\n",
    "    ]\n",
    "]"
   ]
  },
  {
   "cell_type": "code",
   "execution_count": 15,
   "id": "1147d072-564a-4b2c-adb2-d413d058f3da",
   "metadata": {},
   "outputs": [
    {
     "data": {
      "text/plain": [
       "0     concrete\n",
       "1     abstract\n",
       "6    ignorance\n",
       "Name: abstract_lm, dtype: object"
      ]
     },
     "execution_count": 15,
     "metadata": {},
     "output_type": "execute_result"
    }
   ],
   "source": [
    "df[\"abstract_lm\"].drop_duplicates()"
   ]
  },
  {
   "cell_type": "code",
   "execution_count": 16,
   "id": "2d2eaf9f-7855-4a1b-9459-f4383f27f712",
   "metadata": {},
   "outputs": [
    {
     "data": {
      "text/plain": [
       "array([[88,  6,  4],\n",
       "       [ 9, 69,  3],\n",
       "       [ 0,  0, 20]])"
      ]
     },
     "execution_count": 16,
     "metadata": {},
     "output_type": "execute_result"
    }
   ],
   "source": [
    "confusion_matrix(df[\"abstract_lm\"], df[\"abstract_human\"])"
   ]
  },
  {
   "cell_type": "code",
   "execution_count": 17,
   "id": "81e42f2c-0ebb-4994-a3a8-988e25df0346",
   "metadata": {},
   "outputs": [
    {
     "data": {
      "text/plain": [
       "0.8894472361809045"
      ]
     },
     "execution_count": 17,
     "metadata": {},
     "output_type": "execute_result"
    }
   ],
   "source": [
    "accuracy_score(df[\"abstract_lm\"], df[\"abstract_human\"])"
   ]
  },
  {
   "cell_type": "code",
   "execution_count": 18,
   "id": "4631abb4-eeda-40d0-ba70-5f21396a3df9",
   "metadata": {},
   "outputs": [],
   "source": [
    "from sklearn.neural_network import MLPClassifier"
   ]
  },
  {
   "cell_type": "code",
   "execution_count": 19,
   "id": "2b387987-7419-4e3e-93ca-a6b75f782e00",
   "metadata": {},
   "outputs": [],
   "source": [
    "classifier = MLPClassifier()"
   ]
  },
  {
   "cell_type": "code",
   "execution_count": 20,
   "id": "2a95cb11-cf4c-4693-805c-32357ec99817",
   "metadata": {},
   "outputs": [],
   "source": [
    "data = df[[\"abstract_abstract\", \"abstract_concrete\", \"abstract_ignorance\"]]\n",
    "data = np.maximum(np.array(data), -99)\n",
    "labels = df[\"abstract_human\"]"
   ]
  },
  {
   "cell_type": "code",
   "execution_count": 21,
   "id": "b41ea37c-16f0-410a-b98f-1cb5a6d0ba42",
   "metadata": {},
   "outputs": [],
   "source": [
    "def decide_policy_tag(logp_policy, logp_not_policy):\n",
    "    \"\"\"\n",
    "    determine whether a sentence should be called abstract or concrete, based on LM probabilities.\n",
    "    \"\"\"\n",
    "    p_not_policy, p_policy = np.exp([logp_not_policy, logp_policy])\n",
    "    if p_not_policy > 0.50:\n",
    "        return \"not policy\"\n",
    "    elif p_policy > 0:\n",
    "        return \"policy\"\n",
    "    else:\n",
    "        return \"unknown\"\n",
    "\n",
    "\n",
    "df[\"policy_lm\"] = df.apply(\n",
    "    lambda x: decide_policy_tag(x[\"policy_policy\"], x[\"policy_not policy\"]), axis=1\n",
    ")"
   ]
  },
  {
   "cell_type": "code",
   "execution_count": 22,
   "id": "c46b3b8b-1744-4ecf-93bd-eec7030ad98b",
   "metadata": {},
   "outputs": [
    {
     "data": {
      "text/plain": [
       "'not policy'"
      ]
     },
     "execution_count": 22,
     "metadata": {},
     "output_type": "execute_result"
    }
   ],
   "source": [
    "df[\"policy_human\"].loc[0]"
   ]
  },
  {
   "cell_type": "code",
   "execution_count": 23,
   "id": "14c39fd0-e6c9-4170-828d-7330556f02ee",
   "metadata": {},
   "outputs": [
    {
     "data": {
      "text/plain": [
       "array([[84, 23],\n",
       "       [ 6, 86]])"
      ]
     },
     "execution_count": 23,
     "metadata": {},
     "output_type": "execute_result"
    }
   ],
   "source": [
    "confusion_matrix(df[\"policy_lm\"], df[\"policy_human\"])"
   ]
  },
  {
   "cell_type": "code",
   "execution_count": 24,
   "id": "0fd235ce-98ed-4ad4-b37e-02143f41243d",
   "metadata": {},
   "outputs": [
    {
     "data": {
      "text/plain": [
       "0.8542713567839196"
      ]
     },
     "execution_count": 24,
     "metadata": {},
     "output_type": "execute_result"
    }
   ],
   "source": [
    "accuracy_score(df[\"policy_lm\"], df[\"policy_human\"])"
   ]
  },
  {
   "cell_type": "code",
   "execution_count": 74,
   "id": "2ad1c8c7-5b49-41a3-af95-7a96278bb3e2",
   "metadata": {},
   "outputs": [],
   "source": [
    "def decide_dynamics_tag(logp_dynamics, logp_not_dynamics):\n",
    "    \"\"\"\n",
    "    determine whether a sentence should be called abstract or concrete, based on LM probabilities.\n",
    "    \"\"\"\n",
    "    p_not_dynamics, p_dynamics = np.exp([logp_not_dynamics, logp_dynamics])\n",
    "    if p_not_dynamics > 0.2:\n",
    "        return \"not dynamics\"\n",
    "    elif p_dynamics > 0:\n",
    "        return \"dynamics\"\n",
    "    else:\n",
    "        return \"unknown\"\n",
    "\n",
    "\n",
    "df[\"dynamics_lm\"] = df.apply(\n",
    "    lambda x: decide_dynamics_tag(x[\"dynamics_dynamics\"], x[\"dynamics_not dynamics\"]),\n",
    "    axis=1,\n",
    ")"
   ]
  },
  {
   "cell_type": "code",
   "execution_count": 75,
   "id": "f9c25f55-9195-4dad-88cc-908647fa4eeb",
   "metadata": {},
   "outputs": [
    {
     "data": {
      "text/plain": [
       "'dynamics'"
      ]
     },
     "execution_count": 75,
     "metadata": {},
     "output_type": "execute_result"
    }
   ],
   "source": [
    "df[\"dynamics_human\"][0]"
   ]
  },
  {
   "cell_type": "code",
   "execution_count": 76,
   "id": "a54c484f-5dee-45cd-8a03-8647108a6e5f",
   "metadata": {},
   "outputs": [
    {
     "data": {
      "text/plain": [
       "array([[96, 15,  0],\n",
       "       [20, 67,  0],\n",
       "       [ 0,  1,  0]])"
      ]
     },
     "execution_count": 76,
     "metadata": {},
     "output_type": "execute_result"
    }
   ],
   "source": [
    "confusion_matrix(df[\"dynamics_lm\"], df[\"dynamics_human\"])"
   ]
  },
  {
   "cell_type": "code",
   "execution_count": 77,
   "id": "7d6f858b-762e-41fc-bcab-bd87d702ccbd",
   "metadata": {},
   "outputs": [
    {
     "data": {
      "text/plain": [
       "0.8190954773869347"
      ]
     },
     "execution_count": 77,
     "metadata": {},
     "output_type": "execute_result"
    }
   ],
   "source": [
    "accuracy_score(df[\"dynamics_lm\"], df[\"dynamics_human\"])"
   ]
  },
  {
   "cell_type": "code",
   "execution_count": 29,
   "id": "088baa20-cb82-4e0b-b81c-f294890a78c2",
   "metadata": {},
   "outputs": [
    {
     "data": {
      "text/plain": [
       "Index(['sentence', 'abstract_concrete', 'abstract_abstract',\n",
       "       'abstract_ignorance', 'abstract_lm', 'policy_not policy',\n",
       "       'policy_policy', 'policy_lm', 'dynamics_dynamics',\n",
       "       'dynamics_not dynamics', 'dynamics_lm', 'valence_winning',\n",
       "       'valence_neutral', 'valence_losing', 'valence_lm', 'dynamics_human',\n",
       "       'policy_human', 'abstract_human', 'valence_human'],\n",
       "      dtype='object')"
      ]
     },
     "execution_count": 29,
     "metadata": {},
     "output_type": "execute_result"
    }
   ],
   "source": [
    "df.columns"
   ]
  },
  {
   "cell_type": "code",
   "execution_count": 30,
   "id": "d47e6908-c828-4a65-893b-0fa2871a3652",
   "metadata": {},
   "outputs": [
    {
     "name": "stdout",
     "output_type": "stream",
     "text": [
      "0.9045226130653267\n",
      "[[ 31   1   0]\n",
      " [  7 122   9]\n",
      " [  1   1  27]]\n"
     ]
    }
   ],
   "source": [
    "def decide_valence_tag(logp_winning, logp_neutral, logp_losing):\n",
    "    \"\"\"\n",
    "    determine whether a sentence should be called abstract or concrete, based on LM probabilities.\n",
    "    \"\"\"\n",
    "    p_winning, p_neutral, p_losing = np.exp([logp_winning, logp_neutral, logp_losing])\n",
    "    if p_neutral > 0.18:\n",
    "        return \"neutral\"\n",
    "    elif p_winning > 0.5:\n",
    "        return \"winning\"\n",
    "    elif p_losing > 0:\n",
    "        return \"losing\"\n",
    "    else:\n",
    "        return \"unknown\"\n",
    "\n",
    "\n",
    "df[\"valence_lm\"] = df.apply(\n",
    "    lambda x: decide_valence_tag(\n",
    "        x[\"valence_winning\"], x[\"valence_neutral\"], x[\"valence_losing\"]\n",
    "    ),\n",
    "    axis=1,\n",
    ")\n",
    "print(accuracy_score(df[\"valence_lm\"], df[\"valence_human\"]))\n",
    "print(confusion_matrix(df[\"valence_lm\"], df[\"valence_human\"]))"
   ]
  },
  {
   "cell_type": "code",
   "execution_count": 33,
   "id": "0498191a-3c55-47d4-8c68-f3cdcce466d9",
   "metadata": {},
   "outputs": [],
   "source": [
    "from sklearn.tree import DecisionTreeClassifier\n",
    "from sklearn import tree"
   ]
  },
  {
   "cell_type": "code",
   "execution_count": 38,
   "id": "2abc3a49-e840-4a2e-9ea5-2683c595f990",
   "metadata": {},
   "outputs": [],
   "source": [
    "classifier = DecisionTreeClassifier(max_depth=2)"
   ]
  },
  {
   "cell_type": "code",
   "execution_count": 39,
   "id": "5c0a64ea-374b-4e52-a05a-682a6460cf03",
   "metadata": {},
   "outputs": [],
   "source": [
    "X = np.array(df[[\"valence_winning\", \"valence_neutral\", \"valence_losing\"]])\n",
    "X = np.maximum(X, -99)\n",
    "y = np.array(df[\"valence_human\"])"
   ]
  },
  {
   "cell_type": "code",
   "execution_count": 40,
   "id": "ee1f0e63-a41e-4571-9217-d3075d28faeb",
   "metadata": {},
   "outputs": [
    {
     "data": {
      "text/html": [
       "<style>#sk-container-id-2 {color: black;}#sk-container-id-2 pre{padding: 0;}#sk-container-id-2 div.sk-toggleable {background-color: white;}#sk-container-id-2 label.sk-toggleable__label {cursor: pointer;display: block;width: 100%;margin-bottom: 0;padding: 0.3em;box-sizing: border-box;text-align: center;}#sk-container-id-2 label.sk-toggleable__label-arrow:before {content: \"▸\";float: left;margin-right: 0.25em;color: #696969;}#sk-container-id-2 label.sk-toggleable__label-arrow:hover:before {color: black;}#sk-container-id-2 div.sk-estimator:hover label.sk-toggleable__label-arrow:before {color: black;}#sk-container-id-2 div.sk-toggleable__content {max-height: 0;max-width: 0;overflow: hidden;text-align: left;background-color: #f0f8ff;}#sk-container-id-2 div.sk-toggleable__content pre {margin: 0.2em;color: black;border-radius: 0.25em;background-color: #f0f8ff;}#sk-container-id-2 input.sk-toggleable__control:checked~div.sk-toggleable__content {max-height: 200px;max-width: 100%;overflow: auto;}#sk-container-id-2 input.sk-toggleable__control:checked~label.sk-toggleable__label-arrow:before {content: \"▾\";}#sk-container-id-2 div.sk-estimator input.sk-toggleable__control:checked~label.sk-toggleable__label {background-color: #d4ebff;}#sk-container-id-2 div.sk-label input.sk-toggleable__control:checked~label.sk-toggleable__label {background-color: #d4ebff;}#sk-container-id-2 input.sk-hidden--visually {border: 0;clip: rect(1px 1px 1px 1px);clip: rect(1px, 1px, 1px, 1px);height: 1px;margin: -1px;overflow: hidden;padding: 0;position: absolute;width: 1px;}#sk-container-id-2 div.sk-estimator {font-family: monospace;background-color: #f0f8ff;border: 1px dotted black;border-radius: 0.25em;box-sizing: border-box;margin-bottom: 0.5em;}#sk-container-id-2 div.sk-estimator:hover {background-color: #d4ebff;}#sk-container-id-2 div.sk-parallel-item::after {content: \"\";width: 100%;border-bottom: 1px solid gray;flex-grow: 1;}#sk-container-id-2 div.sk-label:hover label.sk-toggleable__label {background-color: #d4ebff;}#sk-container-id-2 div.sk-serial::before {content: \"\";position: absolute;border-left: 1px solid gray;box-sizing: border-box;top: 0;bottom: 0;left: 50%;z-index: 0;}#sk-container-id-2 div.sk-serial {display: flex;flex-direction: column;align-items: center;background-color: white;padding-right: 0.2em;padding-left: 0.2em;position: relative;}#sk-container-id-2 div.sk-item {position: relative;z-index: 1;}#sk-container-id-2 div.sk-parallel {display: flex;align-items: stretch;justify-content: center;background-color: white;position: relative;}#sk-container-id-2 div.sk-item::before, #sk-container-id-2 div.sk-parallel-item::before {content: \"\";position: absolute;border-left: 1px solid gray;box-sizing: border-box;top: 0;bottom: 0;left: 50%;z-index: -1;}#sk-container-id-2 div.sk-parallel-item {display: flex;flex-direction: column;z-index: 1;position: relative;background-color: white;}#sk-container-id-2 div.sk-parallel-item:first-child::after {align-self: flex-end;width: 50%;}#sk-container-id-2 div.sk-parallel-item:last-child::after {align-self: flex-start;width: 50%;}#sk-container-id-2 div.sk-parallel-item:only-child::after {width: 0;}#sk-container-id-2 div.sk-dashed-wrapped {border: 1px dashed gray;margin: 0 0.4em 0.5em 0.4em;box-sizing: border-box;padding-bottom: 0.4em;background-color: white;}#sk-container-id-2 div.sk-label label {font-family: monospace;font-weight: bold;display: inline-block;line-height: 1.2em;}#sk-container-id-2 div.sk-label-container {text-align: center;}#sk-container-id-2 div.sk-container {/* jupyter's `normalize.less` sets `[hidden] { display: none; }` but bootstrap.min.css set `[hidden] { display: none !important; }` so we also need the `!important` here to be able to override the default hidden behavior on the sphinx rendered scikit-learn.org. See: https://github.com/scikit-learn/scikit-learn/issues/21755 */display: inline-block !important;position: relative;}#sk-container-id-2 div.sk-text-repr-fallback {display: none;}</style><div id=\"sk-container-id-2\" class=\"sk-top-container\"><div class=\"sk-text-repr-fallback\"><pre>DecisionTreeClassifier(max_depth=2)</pre><b>In a Jupyter environment, please rerun this cell to show the HTML representation or trust the notebook. <br />On GitHub, the HTML representation is unable to render, please try loading this page with nbviewer.org.</b></div><div class=\"sk-container\" hidden><div class=\"sk-item\"><div class=\"sk-estimator sk-toggleable\"><input class=\"sk-toggleable__control sk-hidden--visually\" id=\"sk-estimator-id-2\" type=\"checkbox\" checked><label for=\"sk-estimator-id-2\" class=\"sk-toggleable__label sk-toggleable__label-arrow\">DecisionTreeClassifier</label><div class=\"sk-toggleable__content\"><pre>DecisionTreeClassifier(max_depth=2)</pre></div></div></div></div></div>"
      ],
      "text/plain": [
       "DecisionTreeClassifier(max_depth=2)"
      ]
     },
     "execution_count": 40,
     "metadata": {},
     "output_type": "execute_result"
    }
   ],
   "source": [
    "classifier.fit(X, y)"
   ]
  },
  {
   "cell_type": "code",
   "execution_count": 41,
   "id": "aa55cdb7-4e44-4b55-baae-315bc1127c2b",
   "metadata": {},
   "outputs": [
    {
     "data": {
      "text/plain": [
       "0.9095477386934674"
      ]
     },
     "execution_count": 41,
     "metadata": {},
     "output_type": "execute_result"
    }
   ],
   "source": [
    "accuracy_score(classifier.predict(X), y)"
   ]
  },
  {
   "cell_type": "code",
   "execution_count": 110,
   "id": "192f7a6c-24de-4f75-b88e-c5ee406dcd27",
   "metadata": {},
   "outputs": [],
   "source": [
    "def fit_log_prob_tree(X, y):\n",
    "    X = np.array(X)\n",
    "    X = np.maximum(X, -99)\n",
    "    clf = DecisionTreeClassifier(max_depth=X.shape[1] - 1)\n",
    "    clf.fit(X, y)\n",
    "    y_pred = clf.predict(X)\n",
    "    accuracy = accuracy_score(y_pred, y)\n",
    "    conf_mat = confusion_matrix(y_pred, y)\n",
    "    return clf, accuracy, conf_mat"
   ]
  },
  {
   "cell_type": "code",
   "execution_count": 111,
   "id": "5b0f1094-9d4c-48fc-94a0-a0dae5e1bf46",
   "metadata": {},
   "outputs": [
    {
     "name": "stdout",
     "output_type": "stream",
     "text": [
      "accuracy: 0.894\n",
      "[[86  3  5]\n",
      " [11 72  2]\n",
      " [ 0  0 20]]\n"
     ]
    }
   ],
   "source": [
    "abstract_feats = df[[\"abstract_abstract\", \"abstract_concrete\", \"abstract_ignorance\"]]\n",
    "abstract_labels = df[\"abstract_human\"]\n",
    "clf_abstract, acc_abstract, conf_mat_abstract = fit_log_prob_tree(\n",
    "    abstract_feats, abstract_labels\n",
    ")\n",
    "print(f\"accuracy: {acc_abstract:.3f}\")\n",
    "print(conf_mat_abstract)"
   ]
  },
  {
   "cell_type": "code",
   "execution_count": 112,
   "id": "dd5c216d-5419-4b70-ac5a-5e9aa4461968",
   "metadata": {},
   "outputs": [
    {
     "name": "stdout",
     "output_type": "stream",
     "text": [
      "accuracy: 0.894\n",
      "[[ 72   3]\n",
      " [ 18 106]]\n"
     ]
    }
   ],
   "source": [
    "policy_feats = df[[\"policy_policy\", \"policy_not policy\"]]\n",
    "policy_labels = df[\"policy_human\"]\n",
    "clf_policy, acc_policy, conf_mat_policy = fit_log_prob_tree(policy_feats, policy_labels)\n",
    "print(f\"accuracy: {acc_policy:.3f}\")\n",
    "print(conf_mat_policy)"
   ]
  },
  {
   "cell_type": "code",
   "execution_count": 113,
   "id": "79b27659-8182-4f58-9047-fad8d585e5a4",
   "metadata": {},
   "outputs": [
    {
     "name": "stdout",
     "output_type": "stream",
     "text": [
      "accuracy: 0.819\n",
      "[[89  9]\n",
      " [27 74]]\n"
     ]
    }
   ],
   "source": [
    "dynamics_feats = df[[\"dynamics_dynamics\", \"dynamics_not dynamics\"]]\n",
    "dynamics_labels = df[\"dynamics_human\"]\n",
    "clf_dynamics, acc_dynamics, conf_mat_dynamics = fit_log_prob_tree(\n",
    "    dynamics_feats, dynamics_labels\n",
    ")\n",
    "print(f\"accuracy: {acc_dynamics:.3f}\")\n",
    "print(conf_mat_dynamics)"
   ]
  },
  {
   "cell_type": "code",
   "execution_count": 114,
   "id": "a65b4196-a2e9-4509-9430-8f06fe48a8d0",
   "metadata": {},
   "outputs": [
    {
     "name": "stdout",
     "output_type": "stream",
     "text": [
      "0.9045226130653267\n",
      "[[ 31   1   0]\n",
      " [  7 122   9]\n",
      " [  1   1  27]]\n"
     ]
    }
   ],
   "source": [
    "valence_feats = df[[\"valence_winning\", \"valence_neutral\", \"valence_winning\"]]\n",
    "valence_labels = df[\"valence_human\"]\n",
    "clf_valence, acc_valence, conf_mat_valence = fit_log_prob_tree(\n",
    "    valence_feats, valence_labels\n",
    ")\n",
    "print(acc_valence)\n",
    "print(conf_mat_valence)"
   ]
  },
  {
   "cell_type": "code",
   "execution_count": 117,
   "id": "b4cf1035-8e73-479c-b44a-a99a16336fc0",
   "metadata": {},
   "outputs": [
    {
     "data": {
      "text/plain": [
       "[Text(0.5, 0.75, 'x[0] <= -0.148\\ngini = 0.486\\nsamples = 199\\nvalue = [116, 83]'),\n",
       " Text(0.25, 0.25, 'gini = 0.392\\nsamples = 101\\nvalue = [27, 74]'),\n",
       " Text(0.75, 0.25, 'gini = 0.167\\nsamples = 98\\nvalue = [89, 9]')]"
      ]
     },
     "execution_count": 117,
     "metadata": {},
     "output_type": "execute_result"
    },
    {
     "data": {
      "image/png": "[encoded data removed]",
      "text/plain": [
       "<Figure size 640x480 with 1 Axes>"
      ]
     },
     "metadata": {},
     "output_type": "display_data"
    }
   ],
   "source": [
    "tree.plot_tree(clf_dynamics)"
   ]
  },
  {
   "cell_type": "code",
   "execution_count": 118,
   "id": "5d898752-981f-44d1-8c77-f9791e8be4b6",
   "metadata": {},
   "outputs": [
    {
     "data": {
      "text/plain": [
       "[Text(0.5, 0.75, 'x[0] <= -2.679\\ngini = 0.495\\nsamples = 199\\nvalue = [90, 109]'),\n",
       " Text(0.25, 0.25, 'gini = 0.077\\nsamples = 75\\nvalue = [72, 3]'),\n",
       " Text(0.75, 0.25, 'gini = 0.248\\nsamples = 124\\nvalue = [18, 106]')]"
      ]
     },
     "execution_count": 118,
     "metadata": {},
     "output_type": "execute_result"
    },
    {
     "data": {
      "image/png": "[encoded data removed]",
      "text/plain": [
       "<Figure size 640x480 with 1 Axes>"
      ]
     },
     "metadata": {},
     "output_type": "display_data"
    }
   ],
   "source": [
    "tree.plot_tree(clf_policy)"
   ]
  },
  {
   "cell_type": "code",
   "execution_count": 119,
   "id": "344d7593-2117-46a8-a3a7-bc93cbfecdfe",
   "metadata": {},
   "outputs": [
    {
     "data": {
      "text/plain": [
       "[Text(0.5, 0.8333333333333334, 'x[1] <= -0.018\\ngini = 0.602\\nsamples = 199\\nvalue = [97, 75, 27]'),\n",
       " Text(0.25, 0.5, 'x[2] <= -0.879\\ngini = 0.382\\nsamples = 114\\nvalue = [86, 3, 25]'),\n",
       " Text(0.125, 0.16666666666666666, 'gini = 0.159\\nsamples = 94\\nvalue = [86, 3, 5]'),\n",
       " Text(0.375, 0.16666666666666666, 'gini = 0.0\\nsamples = 20\\nvalue = [0, 0, 20]'),\n",
       " Text(0.75, 0.5, 'x[0] <= -6.56\\ngini = 0.265\\nsamples = 85\\nvalue = [11, 72, 2]'),\n",
       " Text(0.625, 0.16666666666666666, 'gini = 0.062\\nsamples = 62\\nvalue = [2, 60, 0]'),\n",
       " Text(0.875, 0.16666666666666666, 'gini = 0.567\\nsamples = 23\\nvalue = [9, 12, 2]')]"
      ]
     },
     "execution_count": 119,
     "metadata": {},
     "output_type": "execute_result"
    },
    {
     "data": {
      "image/png": "[encoded data removed]",
      "text/plain": [
       "<Figure size 640x480 with 1 Axes>"
      ]
     },
     "metadata": {},
     "output_type": "display_data"
    }
   ],
   "source": [
    "tree.plot_tree(clf_abstract)"
   ]
  },
  {
   "cell_type": "code",
   "execution_count": 120,
   "id": "415e54f9-7ff6-4fd1-b078-52e4beb00c94",
   "metadata": {},
   "outputs": [
    {
     "data": {
      "text/plain": [
       "[Text(0.5, 0.8333333333333334, 'x[1] <= -1.72\\ngini = 0.541\\nsamples = 199\\nvalue = [39, 124, 36]'),\n",
       " Text(0.25, 0.5, 'x[0] <= -3.618\\ngini = 0.528\\nsamples = 61\\nvalue = [32, 2, 27]'),\n",
       " Text(0.125, 0.16666666666666666, 'gini = 0.061\\nsamples = 32\\nvalue = [31, 1, 0]'),\n",
       " Text(0.375, 0.16666666666666666, 'gini = 0.131\\nsamples = 29\\nvalue = [1, 1, 27]'),\n",
       " Text(0.75, 0.5, 'x[1] <= -0.156\\ngini = 0.212\\nsamples = 138\\nvalue = [7, 122, 9]'),\n",
       " Text(0.625, 0.16666666666666666, 'gini = 0.523\\nsamples = 42\\nvalue = [7, 27, 8]'),\n",
       " Text(0.875, 0.16666666666666666, 'gini = 0.021\\nsamples = 96\\nvalue = [0, 95, 1]')]"
      ]
     },
     "execution_count": 120,
     "metadata": {},
     "output_type": "execute_result"
    },
    {
     "data": {
      "image/png": "[encoded data removed]",
      "text/plain": [
       "<Figure size 640x480 with 1 Axes>"
      ]
     },
     "metadata": {},
     "output_type": "display_data"
    }
   ],
   "source": [
    "tree.plot_tree(clf_valence)"
   ]
  }
 ],
 "metadata": {
  "kernelspec": {
   "display_name": "Python 3 (ipykernel)",
   "language": "python",
   "name": "python3"
  },
  "language_info": {
   "codemirror_mode": {
    "name": "ipython",
    "version": 3
   },
   "file_extension": ".py",
   "mimetype": "text/x-python",
   "name": "python",
   "nbconvert_exporter": "python",
   "pygments_lexer": "ipython3",
   "version": "3.11.6"
  }
 },
 "nbformat": 4,
 "nbformat_minor": 5
}
